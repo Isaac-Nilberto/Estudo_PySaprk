{
  "nbformat": 4,
  "nbformat_minor": 0,
  "metadata": {
    "colab": {
      "provenance": [],
      "mount_file_id": "1hEWQkpAbJ0FfrVsL02XfA8BNbD3meCQ4",
      "authorship_tag": "ABX9TyOAvu5MIUTRLHNp6cznMBBC",
      "include_colab_link": true
    },
    "kernelspec": {
      "name": "python3",
      "display_name": "Python 3"
    },
    "language_info": {
      "name": "python"
    }
  },
  "cells": [
    {
      "cell_type": "markdown",
      "metadata": {
        "id": "view-in-github",
        "colab_type": "text"
      },
      "source": [
        "<a href=\"https://colab.research.google.com/github/Isaac-Nilberto/Estudo_PySaprk/blob/main/estudo_pyspark.ipynb\" target=\"_parent\"><img src=\"https://colab.research.google.com/assets/colab-badge.svg\" alt=\"Open In Colab\"/></a>"
      ]
    },
    {
      "cell_type": "markdown",
      "source": [
        "# Primeira Prática"
      ],
      "metadata": {
        "id": "JUMPt66t0oPj"
      }
    },
    {
      "cell_type": "code",
      "execution_count": 13,
      "metadata": {
        "colab": {
          "base_uri": "https://localhost:8080/"
        },
        "id": "FBKjz5uuts_z",
        "outputId": "72e3a820-9e51-4ee4-a10f-34b07d312638"
      },
      "outputs": [
        {
          "output_type": "stream",
          "name": "stdout",
          "text": [
            "Mounted at /content/gdrive\n"
          ]
        }
      ],
      "source": [
        "# mapear meu googledrive\n",
        "\n",
        "from google.colab import drive\n",
        "drive.mount('/content/gdrive')"
      ]
    },
    {
      "cell_type": "code",
      "source": [
        "# instalando dependencias\n",
        "\n",
        "!pip install pyspark"
      ],
      "metadata": {
        "colab": {
          "base_uri": "https://localhost:8080/"
        },
        "id": "YFfd0Zy4yBs4",
        "outputId": "fa0814df-cfe0-4fbb-ab00-b461c4b31037"
      },
      "execution_count": 14,
      "outputs": [
        {
          "output_type": "stream",
          "name": "stdout",
          "text": [
            "Collecting pyspark\n",
            "  Downloading pyspark-3.5.0.tar.gz (316.9 MB)\n",
            "\u001b[2K     \u001b[90m━━━━━━━━━━━━━━━━━━━━━━━━━━━━━━━━━━━━━━━━\u001b[0m \u001b[32m316.9/316.9 MB\u001b[0m \u001b[31m4.3 MB/s\u001b[0m eta \u001b[36m0:00:00\u001b[0m\n",
            "\u001b[?25h  Preparing metadata (setup.py) ... \u001b[?25l\u001b[?25hdone\n",
            "Requirement already satisfied: py4j==0.10.9.7 in /usr/local/lib/python3.10/dist-packages (from pyspark) (0.10.9.7)\n",
            "Building wheels for collected packages: pyspark\n",
            "  Building wheel for pyspark (setup.py) ... \u001b[?25l\u001b[?25hdone\n",
            "  Created wheel for pyspark: filename=pyspark-3.5.0-py2.py3-none-any.whl size=317425344 sha256=d44976dd09ca72d1a63305dccfb3ef2dade40159decf20ecfb385c668617d6a4\n",
            "  Stored in directory: /root/.cache/pip/wheels/41/4e/10/c2cf2467f71c678cfc8a6b9ac9241e5e44a01940da8fbb17fc\n",
            "Successfully built pyspark\n",
            "Installing collected packages: pyspark\n",
            "Successfully installed pyspark-3.5.0\n"
          ]
        }
      ]
    },
    {
      "cell_type": "code",
      "source": [
        "# criando sessão no pyspark\n",
        "\n",
        "from pyspark.sql import SparkSession\n",
        "\n",
        "spark = SparkSession \\\n",
        "        .builder \\\n",
        "        .appName('Minha Primeira Aplicacao') \\\n",
        "        .config('spark.ui.port', '4050') \\\n",
        "        .getOrCreate()"
      ],
      "metadata": {
        "id": "c5TkGYbH0q4x"
      },
      "execution_count": 16,
      "outputs": []
    },
    {
      "cell_type": "code",
      "source": [
        "spark"
      ],
      "metadata": {
        "colab": {
          "base_uri": "https://localhost:8080/",
          "height": 219
        },
        "id": "_gXzRfXG3UcV",
        "outputId": "469edc31-7e32-4415-9309-e7bc702d06fc"
      },
      "execution_count": 17,
      "outputs": [
        {
          "output_type": "execute_result",
          "data": {
            "text/plain": [
              "<pyspark.sql.session.SparkSession at 0x7ea0474b8ee0>"
            ],
            "text/html": [
              "\n",
              "            <div>\n",
              "                <p><b>SparkSession - in-memory</b></p>\n",
              "                \n",
              "        <div>\n",
              "            <p><b>SparkContext</b></p>\n",
              "\n",
              "            <p><a href=\"http://f9b09161d27e:4050\">Spark UI</a></p>\n",
              "\n",
              "            <dl>\n",
              "              <dt>Version</dt>\n",
              "                <dd><code>v3.5.0</code></dd>\n",
              "              <dt>Master</dt>\n",
              "                <dd><code>local[*]</code></dd>\n",
              "              <dt>AppName</dt>\n",
              "                <dd><code>Minha Primeira Aplicacao</code></dd>\n",
              "            </dl>\n",
              "        </div>\n",
              "        \n",
              "            </div>\n",
              "        "
            ]
          },
          "metadata": {},
          "execution_count": 17
        }
      ]
    },
    {
      "cell_type": "markdown",
      "source": [
        "# Leitura de Dados"
      ],
      "metadata": {
        "id": "E61M9x1f3hPK"
      }
    },
    {
      "cell_type": "markdown",
      "source": [
        "## lendo parquet"
      ],
      "metadata": {
        "id": "nPSfZv8k4v1N"
      }
    },
    {
      "cell_type": "code",
      "source": [
        "# carregando dados\n",
        "data_parquet = spark.read.parquet(\"/content/drive/MyDrive/POD/pyspark/Dados_Aula01/dados_veiculos_sample\")"
      ],
      "metadata": {
        "id": "wVVgJPE03kNe"
      },
      "execution_count": 59,
      "outputs": []
    },
    {
      "cell_type": "code",
      "source": [
        "# vendo tipo de dado\n",
        "type(data_parquet)"
      ],
      "metadata": {
        "colab": {
          "base_uri": "https://localhost:8080/"
        },
        "id": "CpNjG7gQ4FFa",
        "outputId": "e03b3f13-0b5b-442f-dabf-1b72aaf0cef3"
      },
      "execution_count": 19,
      "outputs": [
        {
          "output_type": "execute_result",
          "data": {
            "text/plain": [
              "pyspark.sql.dataframe.DataFrame"
            ]
          },
          "metadata": {},
          "execution_count": 19
        }
      ]
    },
    {
      "cell_type": "code",
      "source": [
        "data_parquet.printSchema()"
      ],
      "metadata": {
        "colab": {
          "base_uri": "https://localhost:8080/"
        },
        "id": "DjGx_2o-4NG_",
        "outputId": "463914c3-5e9e-4e50-9aa7-c38b03e88a90"
      },
      "execution_count": 20,
      "outputs": [
        {
          "output_type": "stream",
          "name": "stdout",
          "text": [
            "root\n",
            " |-- marca: string (nullable = true)\n",
            " |-- modelo: string (nullable = true)\n",
            " |-- engine_size: double (nullable = true)\n",
            " |-- ano: long (nullable = true)\n",
            " |-- valor_tabela_fipe: double (nullable = true)\n",
            " |-- flag_veiculo_novo: string (nullable = true)\n",
            " |-- uf: string (nullable = true)\n",
            " |-- data_cadastro: timestamp_ntz (nullable = true)\n",
            " |-- cor: string (nullable = true)\n",
            " |-- placa: string (nullable = true)\n",
            " |-- __index_level_0__: long (nullable = true)\n",
            "\n"
          ]
        }
      ]
    },
    {
      "cell_type": "code",
      "source": [
        "data_parquet.show(truncate = False)"
      ],
      "metadata": {
        "colab": {
          "base_uri": "https://localhost:8080/"
        },
        "id": "xSfhngXs4TjJ",
        "outputId": "9f4ccc34-d92e-4056-af5b-cdb8b9727704"
      },
      "execution_count": 26,
      "outputs": [
        {
          "output_type": "stream",
          "name": "stdout",
          "text": [
            "+------+---------------------------------+-----------+----+-----------------+-----------------+---+-------------------+-----------------------+-------+-----------------+\n",
            "|marca |modelo                           |engine_size|ano |valor_tabela_fipe|flag_veiculo_novo|uf |data_cadastro      |cor                    |placa  |__index_level_0__|\n",
            "+------+---------------------------------+-----------+----+-----------------+-----------------+---+-------------------+-----------------------+-------+-----------------+\n",
            "|Acura |NSX 3.0                          |3.0        |1995|43779.0          |False            |MT |2005-09-02 14:40:54|Orquídea média         |4RR2KR0|0                |\n",
            "|Acura |NSX 3.0                          |3.0        |1994|42244.0          |False            |MT |1998-11-01 11:58:46|Azul aço               |5C6NIZ1|1                |\n",
            "|Acura |NSX 3.0                          |3.0        |1992|39028.0          |False            |AP |2014-07-03 20:32:21|Ametista               |3PRJCPK|3                |\n",
            "|Acura |Legend 3.2/3.5                   |3.2        |1998|27132.0          |False            |AP |2018-01-07 20:03:26|Caramelo               |2FXXZ1W|5                |\n",
            "|Acura |Legend 3.2/3.5                   |3.2        |1995|20393.0          |False            |MT |2016-03-16 18:24:33|Lavanda avermelhada    |2PTOYFY|8                |\n",
            "|Acura |Legend 3.2/3.5                   |3.2        |1993|15156.0          |False            |PA |2021-02-24 09:12:55|Cinza médio            |91M9ITK|10               |\n",
            "|Acura |Legend 3.2/3.5                   |3.2        |1992|14440.0          |False            |MA |1999-09-29 15:15:47|Azul ardósia claro     |CUB4FG8|11               |\n",
            "|Acura |Integra GS 1.8                   |1.8        |1991|10785.0          |False            |RR |2007-08-24 18:07:24|Marrom amarelado       |RVMZ6AR|14               |\n",
            "|Agrale|MARRUÁ AM 50 2.8 140cv TDI Diesel|2.8        |2010|64744.0          |False            |CE |2022-08-09 02:19:54|Verde primavera        |0IY5RU3|20               |\n",
            "|Agrale|MARRUÁ AM 50 2.8 140cv TDI Diesel|2.8        |2008|55772.0          |False            |SP |2014-01-27 17:42:24|Urucum                 |AVIM91O|22               |\n",
            "|Agrale|MARRUÁ AM 100 2.8 CS TDI Diesel  |2.8        |2015|109335.0         |False            |GO |2017-01-17 11:51:47|Verde fluorescente     |6014MZB|23               |\n",
            "|Agrale|MARRUÁ AM 100 2.8 CS TDI Diesel  |2.8        |2014|105149.0         |False            |MT |2016-06-08 04:18:38|Chocolate              |6WKD8TD|24               |\n",
            "|Agrale|MARRUÁ AM 100 2.8 CS TDI Diesel  |2.8        |2010|52934.0          |False            |AP |2022-02-19 10:44:44|Ocre                   |PQZB1OD|28               |\n",
            "|Agrale|MARRUÁ AM 100 2.8 CD TDI Diesel  |2.8        |2012|111158.0         |False            |AC |2021-07-28 20:42:19|Azul                   |2PD806F|34               |\n",
            "|Agrale|MARRUÁ AM 100 2.8 CD TDI Diesel  |2.8        |2011|86443.0          |False            |AP |2012-02-02 00:03:09|Brasil                 |U6NWAUI|35               |\n",
            "|Agrale|MARRUÁ AM 100 2.8 CD TDI Diesel  |2.8        |2007|52088.0          |False            |DF |2018-08-21 18:17:07|Naval                  |HUAMUK3|39               |\n",
            "|Agrale|MARRUÁ AM 150 2.8 CS TDI Diesel  |2.8        |2015|111368.0         |False            |RR |2017-08-02 19:33:42|Maná                   |OO92X3P|40               |\n",
            "|Agrale|MARRUÁ AM 150 2.8 CD TDI Diesel  |2.8        |2010|72093.0          |False            |RS |2017-08-30 19:58:28|Azul turquesa brilhante|W963DA9|53               |\n",
            "|Agrale|MARRUÁ AM 200 2.8 CS TDI Diesel  |2.8        |2019|232367.0         |False            |PI |2022-06-03 09:10:14|Verde militar          |9KTQR31|60               |\n",
            "|Agrale|MARRUÁ AM 200 2.8 CS TDI Diesel  |2.8        |2014|109529.0         |False            |AM |2016-11-27 13:51:15|Azul areado            |YVJ711F|65               |\n",
            "+------+---------------------------------+-----------+----+-----------------+-----------------+---+-------------------+-----------------------+-------+-----------------+\n",
            "only showing top 20 rows\n",
            "\n"
          ]
        }
      ]
    },
    {
      "cell_type": "markdown",
      "source": [
        "## lendo csv"
      ],
      "metadata": {
        "id": "xonX7zfi4yrB"
      }
    },
    {
      "cell_type": "code",
      "source": [
        "data_csv = spark.read.csv(\"/content/drive/MyDrive/POD/pyspark/Dados_Aula01/netflix_titles.csv\", header = True)"
      ],
      "metadata": {
        "id": "_HDivY-W40l2"
      },
      "execution_count": 30,
      "outputs": []
    },
    {
      "cell_type": "code",
      "source": [
        "data_csv.show(5)"
      ],
      "metadata": {
        "colab": {
          "base_uri": "https://localhost:8080/"
        },
        "id": "_1fPZpwu4-kB",
        "outputId": "ae9afd38-fe32-4d49-b65e-702b1ad1191f"
      },
      "execution_count": 31,
      "outputs": [
        {
          "output_type": "stream",
          "name": "stdout",
          "text": [
            "+-------+-------+--------------------+---------------+--------------------+-------------+------------------+------------+------+---------+--------------------+--------------------+\n",
            "|show_id|   type|               title|       director|                cast|      country|        date_added|release_year|rating| duration|           listed_in|         description|\n",
            "+-------+-------+--------------------+---------------+--------------------+-------------+------------------+------------+------+---------+--------------------+--------------------+\n",
            "|     s1|  Movie|Dick Johnson Is Dead|Kirsten Johnson|                NULL|United States|September 25, 2021|        2020| PG-13|   90 min|       Documentaries|As her father nea...|\n",
            "|     s2|TV Show|       Blood & Water|           NULL|Ama Qamata, Khosi...| South Africa|September 24, 2021|        2021| TV-MA|2 Seasons|International TV ...|After crossing pa...|\n",
            "|     s3|TV Show|           Ganglands|Julien Leclercq|Sami Bouajila, Tr...|         NULL|September 24, 2021|        2021| TV-MA| 1 Season|Crime TV Shows, I...|To protect his fa...|\n",
            "|     s4|TV Show|Jailbirds New Orl...|           NULL|                NULL|         NULL|September 24, 2021|        2021| TV-MA| 1 Season|Docuseries, Reali...|Feuds, flirtation...|\n",
            "|     s5|TV Show|        Kota Factory|           NULL|Mayur More, Jiten...|        India|September 24, 2021|        2021| TV-MA|2 Seasons|International TV ...|In a city of coac...|\n",
            "+-------+-------+--------------------+---------------+--------------------+-------------+------------------+------------+------+---------+--------------------+--------------------+\n",
            "only showing top 5 rows\n",
            "\n"
          ]
        }
      ]
    },
    {
      "cell_type": "code",
      "source": [
        "data_csv.printSchema()"
      ],
      "metadata": {
        "colab": {
          "base_uri": "https://localhost:8080/"
        },
        "id": "8VIw8dJu5UX0",
        "outputId": "51495672-1687-46f9-ff21-6fae5eda9663"
      },
      "execution_count": 32,
      "outputs": [
        {
          "output_type": "stream",
          "name": "stdout",
          "text": [
            "root\n",
            " |-- show_id: string (nullable = true)\n",
            " |-- type: string (nullable = true)\n",
            " |-- title: string (nullable = true)\n",
            " |-- director: string (nullable = true)\n",
            " |-- cast: string (nullable = true)\n",
            " |-- country: string (nullable = true)\n",
            " |-- date_added: string (nullable = true)\n",
            " |-- release_year: string (nullable = true)\n",
            " |-- rating: string (nullable = true)\n",
            " |-- duration: string (nullable = true)\n",
            " |-- listed_in: string (nullable = true)\n",
            " |-- description: string (nullable = true)\n",
            "\n"
          ]
        }
      ]
    },
    {
      "cell_type": "markdown",
      "source": [
        "## lendo txt"
      ],
      "metadata": {
        "id": "7PmgMoYf544y"
      }
    },
    {
      "cell_type": "code",
      "source": [
        "data_txt = spark.read.csv('/content/drive/MyDrive/POD/pyspark/Dados_Aula01/exemplo_people.txt')"
      ],
      "metadata": {
        "id": "4hyQf-R756L4"
      },
      "execution_count": 35,
      "outputs": []
    },
    {
      "cell_type": "code",
      "source": [
        "data_txt.show()"
      ],
      "metadata": {
        "colab": {
          "base_uri": "https://localhost:8080/"
        },
        "id": "L_IHvbkj6Rbf",
        "outputId": "3608e14e-9570-4c11-9146-f7475d4a2bc0"
      },
      "execution_count": 37,
      "outputs": [
        {
          "output_type": "stream",
          "name": "stdout",
          "text": [
            "+----------------+---+\n",
            "|             _c0|_c1|\n",
            "+----------------+---+\n",
            "|   Felipe Jardim| 29|\n",
            "|   Joao da Silva| 30|\n",
            "|      Mario Dias| 19|\n",
            "|Renan dos Santos| 48|\n",
            "|   Julia Martins| 55|\n",
            "|Maria das Gracas| 41|\n",
            "+----------------+---+\n",
            "\n"
          ]
        }
      ]
    },
    {
      "cell_type": "markdown",
      "source": [
        "## lendo json"
      ],
      "metadata": {
        "id": "EplrkGyx6X8Q"
      }
    },
    {
      "cell_type": "code",
      "source": [
        "data_json = spark.read.json(\"/content/drive/MyDrive/POD/pyspark/Dados_Aula01/movies_example.json\")"
      ],
      "metadata": {
        "id": "5fmxzx-46Z4i"
      },
      "execution_count": 38,
      "outputs": []
    },
    {
      "cell_type": "code",
      "source": [
        "data_json.show(10)"
      ],
      "metadata": {
        "colab": {
          "base_uri": "https://localhost:8080/"
        },
        "id": "IWU1z5Nc6hXF",
        "outputId": "1fef5d18-e8d5-44ab-901c-03a1b3b94f2d"
      },
      "execution_count": 40,
      "outputs": [
        {
          "output_type": "stream",
          "name": "stdout",
          "text": [
            "+--------------------+--------------------+------------------+--------------------+--------------------+---------+--------------------+------+------------+-------+--------------------+-------+\n",
            "|                cast|             country|        date_added|         description|            director| duration|           listed_in|rating|release_year|show_id|               title|   type|\n",
            "+--------------------+--------------------+------------------+--------------------+--------------------+---------+--------------------+------+------------+-------+--------------------+-------+\n",
            "|                NULL|       United States|September 25, 2021|As her father nea...|     Kirsten Johnson|   90 min|       Documentaries| PG-13|        2020|     s1|Dick Johnson Is Dead|  Movie|\n",
            "|Ama Qamata, Khosi...|        South Africa|September 24, 2021|After crossing pa...|                NULL|2 Seasons|International TV ...| TV-MA|        2021|     s2|       Blood & Water|TV Show|\n",
            "|Sami Bouajila, Tr...|                NULL|September 24, 2021|To protect his fa...|     Julien Leclercq| 1 Season|Crime TV Shows, I...| TV-MA|        2021|     s3|           Ganglands|TV Show|\n",
            "|                NULL|                NULL|September 24, 2021|Feuds, flirtation...|                NULL| 1 Season|Docuseries, Reali...| TV-MA|        2021|     s4|Jailbirds New Orl...|TV Show|\n",
            "|Mayur More, Jiten...|               India|September 24, 2021|In a city of coac...|                NULL|2 Seasons|International TV ...| TV-MA|        2021|     s5|        Kota Factory|TV Show|\n",
            "|Kate Siegel, Zach...|                NULL|September 24, 2021|The arrival of a ...|       Mike Flanagan| 1 Season|TV Dramas, TV Hor...| TV-MA|        2021|     s6|       Midnight Mass|TV Show|\n",
            "|Vanessa Hudgens, ...|                NULL|September 24, 2021|Equestria's divid...|Robert Cullen, Jo...|   91 min|Children & Family...|    PG|        2021|     s7|My Little Pony: A...|  Movie|\n",
            "|Kofi Ghanaba, Oya...|United States, Gh...|September 24, 2021|On a photo shoot ...|        Haile Gerima|  125 min|Dramas, Independe...| TV-MA|        1993|     s8|             Sankofa|  Movie|\n",
            "|Mel Giedroyc, Sue...|      United Kingdom|September 24, 2021|A talented batch ...|     Andy Devonshire|9 Seasons|British TV Shows,...| TV-14|        2021|     s9|The Great British...|TV Show|\n",
            "|Melissa McCarthy,...|       United States|September 24, 2021|A woman adjusting...|      Theodore Melfi|  104 min|    Comedies, Dramas| PG-13|        2021|    s10|        The Starling|  Movie|\n",
            "+--------------------+--------------------+------------------+--------------------+--------------------+---------+--------------------+------+------------+-------+--------------------+-------+\n",
            "only showing top 10 rows\n",
            "\n"
          ]
        }
      ]
    },
    {
      "cell_type": "markdown",
      "source": [
        "# Manipulando Dados"
      ],
      "metadata": {
        "id": "zhlUYiM76sTH"
      }
    },
    {
      "cell_type": "code",
      "source": [
        "data_parquet.columns"
      ],
      "metadata": {
        "colab": {
          "base_uri": "https://localhost:8080/"
        },
        "id": "3CdpdibF6q80",
        "outputId": "6eae539e-ab0d-4717-a4fc-75f5bddaa6b3"
      },
      "execution_count": 41,
      "outputs": [
        {
          "output_type": "execute_result",
          "data": {
            "text/plain": [
              "['marca',\n",
              " 'modelo',\n",
              " 'engine_size',\n",
              " 'ano',\n",
              " 'valor_tabela_fipe',\n",
              " 'flag_veiculo_novo',\n",
              " 'uf',\n",
              " 'data_cadastro',\n",
              " 'cor',\n",
              " 'placa',\n",
              " '__index_level_0__']"
            ]
          },
          "metadata": {},
          "execution_count": 41
        }
      ]
    },
    {
      "cell_type": "code",
      "source": [
        "data_parquet.select(\"marca\").show()"
      ],
      "metadata": {
        "colab": {
          "base_uri": "https://localhost:8080/"
        },
        "id": "APdT8Jv66zDl",
        "outputId": "73978cb3-0a0d-4087-f5ce-a7a54799cfda"
      },
      "execution_count": 42,
      "outputs": [
        {
          "output_type": "stream",
          "name": "stdout",
          "text": [
            "+------+\n",
            "| marca|\n",
            "+------+\n",
            "| Acura|\n",
            "| Acura|\n",
            "| Acura|\n",
            "| Acura|\n",
            "| Acura|\n",
            "| Acura|\n",
            "| Acura|\n",
            "| Acura|\n",
            "|Agrale|\n",
            "|Agrale|\n",
            "|Agrale|\n",
            "|Agrale|\n",
            "|Agrale|\n",
            "|Agrale|\n",
            "|Agrale|\n",
            "|Agrale|\n",
            "|Agrale|\n",
            "|Agrale|\n",
            "|Agrale|\n",
            "|Agrale|\n",
            "+------+\n",
            "only showing top 20 rows\n",
            "\n"
          ]
        }
      ]
    },
    {
      "cell_type": "code",
      "source": [
        "from pyspark.sql.functions import col, lit"
      ],
      "metadata": {
        "id": "jUEv4CgU7LT0"
      },
      "execution_count": 43,
      "outputs": []
    },
    {
      "cell_type": "code",
      "source": [
        "data_parquet.show(5)"
      ],
      "metadata": {
        "colab": {
          "base_uri": "https://localhost:8080/"
        },
        "id": "IRy0fYEY93xM",
        "outputId": "c25f2ed3-7da5-4fb0-ddd4-dbd6a282e2db"
      },
      "execution_count": 46,
      "outputs": [
        {
          "output_type": "stream",
          "name": "stdout",
          "text": [
            "+-----+--------------+-----------+----+-----------------+-----------------+---+-------------------+-------------------+-------+-----------------+\n",
            "|marca|        modelo|engine_size| ano|valor_tabela_fipe|flag_veiculo_novo| uf|      data_cadastro|                cor|  placa|__index_level_0__|\n",
            "+-----+--------------+-----------+----+-----------------+-----------------+---+-------------------+-------------------+-------+-----------------+\n",
            "|Acura|       NSX 3.0|        3.0|1995|          43779.0|            False| MT|2005-09-02 14:40:54|     Orquídea média|4RR2KR0|                0|\n",
            "|Acura|       NSX 3.0|        3.0|1994|          42244.0|            False| MT|1998-11-01 11:58:46|           Azul aço|5C6NIZ1|                1|\n",
            "|Acura|       NSX 3.0|        3.0|1992|          39028.0|            False| AP|2014-07-03 20:32:21|           Ametista|3PRJCPK|                3|\n",
            "|Acura|Legend 3.2/3.5|        3.2|1998|          27132.0|            False| AP|2018-01-07 20:03:26|           Caramelo|2FXXZ1W|                5|\n",
            "|Acura|Legend 3.2/3.5|        3.2|1995|          20393.0|            False| MT|2016-03-16 18:24:33|Lavanda avermelhada|2PTOYFY|                8|\n",
            "+-----+--------------+-----------+----+-----------------+-----------------+---+-------------------+-------------------+-------+-----------------+\n",
            "only showing top 5 rows\n",
            "\n"
          ]
        }
      ]
    },
    {
      "cell_type": "code",
      "source": [
        "data_parquet = data_parquet.withColumnRenamed(\"__index_level_0__\",\"index_level\")\n",
        "data_parquet.show(5)"
      ],
      "metadata": {
        "colab": {
          "base_uri": "https://localhost:8080/"
        },
        "id": "qv-elYgL-XiG",
        "outputId": "eb5070a5-1b86-426e-c20c-fc3c98fd12cb"
      },
      "execution_count": 65,
      "outputs": [
        {
          "output_type": "stream",
          "name": "stdout",
          "text": [
            "+-----+--------------+-----------+----+-----------------+-----------------+---+-------------------+-------------------+-------+-----------+\n",
            "|marca|        modelo|engine_size| ano|valor_tabela_fipe|flag_veiculo_novo| uf|      data_cadastro|                cor|  placa|index_level|\n",
            "+-----+--------------+-----------+----+-----------------+-----------------+---+-------------------+-------------------+-------+-----------+\n",
            "|Acura|       NSX 3.0|        3.0|1995|          43779.0|            False| MT|2005-09-02 14:40:54|     Orquídea média|4RR2KR0|          0|\n",
            "|Acura|       NSX 3.0|        3.0|1994|          42244.0|            False| MT|1998-11-01 11:58:46|           Azul aço|5C6NIZ1|          1|\n",
            "|Acura|       NSX 3.0|        3.0|1992|          39028.0|            False| AP|2014-07-03 20:32:21|           Ametista|3PRJCPK|          3|\n",
            "|Acura|Legend 3.2/3.5|        3.2|1998|          27132.0|            False| AP|2018-01-07 20:03:26|           Caramelo|2FXXZ1W|          5|\n",
            "|Acura|Legend 3.2/3.5|        3.2|1995|          20393.0|            False| MT|2016-03-16 18:24:33|Lavanda avermelhada|2PTOYFY|          8|\n",
            "+-----+--------------+-----------+----+-----------------+-----------------+---+-------------------+-------------------+-------+-----------+\n",
            "only showing top 5 rows\n",
            "\n"
          ]
        }
      ]
    },
    {
      "cell_type": "code",
      "source": [
        "# data_parquet = data_parquet.withColumn(\"index_level\",col('__index_level_0__'))"
      ],
      "metadata": {
        "colab": {
          "base_uri": "https://localhost:8080/"
        },
        "id": "EeDEhrUC7TOB",
        "outputId": "6a74be7d-98f3-484d-8777-adfa64f57d35"
      },
      "execution_count": 47,
      "outputs": [
        {
          "output_type": "stream",
          "name": "stdout",
          "text": [
            "+-----+--------------+-----------+----+-----------------+-----------------+---+-------------------+-------------------+-------+-----------------+-----------+\n",
            "|marca|        modelo|engine_size| ano|valor_tabela_fipe|flag_veiculo_novo| uf|      data_cadastro|                cor|  placa|__index_level_0__|index_level|\n",
            "+-----+--------------+-----------+----+-----------------+-----------------+---+-------------------+-------------------+-------+-----------------+-----------+\n",
            "|Acura|       NSX 3.0|        3.0|1995|          43779.0|            False| MT|2005-09-02 14:40:54|     Orquídea média|4RR2KR0|                0|          0|\n",
            "|Acura|       NSX 3.0|        3.0|1994|          42244.0|            False| MT|1998-11-01 11:58:46|           Azul aço|5C6NIZ1|                1|          1|\n",
            "|Acura|       NSX 3.0|        3.0|1992|          39028.0|            False| AP|2014-07-03 20:32:21|           Ametista|3PRJCPK|                3|          3|\n",
            "|Acura|Legend 3.2/3.5|        3.2|1998|          27132.0|            False| AP|2018-01-07 20:03:26|           Caramelo|2FXXZ1W|                5|          5|\n",
            "|Acura|Legend 3.2/3.5|        3.2|1995|          20393.0|            False| MT|2016-03-16 18:24:33|Lavanda avermelhada|2PTOYFY|                8|          8|\n",
            "+-----+--------------+-----------+----+-----------------+-----------------+---+-------------------+-------------------+-------+-----------------+-----------+\n",
            "only showing top 5 rows\n",
            "\n"
          ]
        }
      ]
    },
    {
      "cell_type": "code",
      "source": [
        "data_parquet.show(5)"
      ],
      "metadata": {
        "colab": {
          "base_uri": "https://localhost:8080/"
        },
        "id": "5GQv3a2a-Qtn",
        "outputId": "712c1c69-9d2c-4c7e-e8d2-ffb989304a6f"
      },
      "execution_count": 49,
      "outputs": [
        {
          "output_type": "stream",
          "name": "stdout",
          "text": [
            "+-----+--------------+-----------+----+-----------------+-----------------+---+-------------------+-------------------+-------+-----------------+-----------+\n",
            "|marca|        modelo|engine_size| ano|valor_tabela_fipe|flag_veiculo_novo| uf|      data_cadastro|                cor|  placa|__index_level_0__|index_level|\n",
            "+-----+--------------+-----------+----+-----------------+-----------------+---+-------------------+-------------------+-------+-----------------+-----------+\n",
            "|Acura|       NSX 3.0|        3.0|1995|          43779.0|            False| MT|2005-09-02 14:40:54|     Orquídea média|4RR2KR0|                0|          0|\n",
            "|Acura|       NSX 3.0|        3.0|1994|          42244.0|            False| MT|1998-11-01 11:58:46|           Azul aço|5C6NIZ1|                1|          1|\n",
            "|Acura|       NSX 3.0|        3.0|1992|          39028.0|            False| AP|2014-07-03 20:32:21|           Ametista|3PRJCPK|                3|          3|\n",
            "|Acura|Legend 3.2/3.5|        3.2|1998|          27132.0|            False| AP|2018-01-07 20:03:26|           Caramelo|2FXXZ1W|                5|          5|\n",
            "|Acura|Legend 3.2/3.5|        3.2|1995|          20393.0|            False| MT|2016-03-16 18:24:33|Lavanda avermelhada|2PTOYFY|                8|          8|\n",
            "+-----+--------------+-----------+----+-----------------+-----------------+---+-------------------+-------------------+-------+-----------------+-----------+\n",
            "only showing top 5 rows\n",
            "\n"
          ]
        }
      ]
    },
    {
      "cell_type": "code",
      "source": [
        "data_parquet.orderBy('ano').show()"
      ],
      "metadata": {
        "colab": {
          "base_uri": "https://localhost:8080/"
        },
        "id": "HyXrRigQ_7t7",
        "outputId": "2d294145-20f0-4468-d821-bc1c0e4ae147"
      },
      "execution_count": 66,
      "outputs": [
        {
          "output_type": "stream",
          "name": "stdout",
          "text": [
            "+--------------+--------------------+-----------+----+-----------------+-----------------+---+-------------------+-------------------+-------+-----------+\n",
            "|         marca|              modelo|engine_size| ano|valor_tabela_fipe|flag_veiculo_novo| uf|      data_cadastro|                cor|  placa|index_level|\n",
            "+--------------+--------------------+-----------+----+-----------------+-----------------+---+-------------------+-------------------+-------+-----------+\n",
            "|GM - Chevrolet|C-10 De Luxe 2.5/4.1|        2.5|1985|           7766.0|            False| MS|2020-05-20 00:37:19|            Cenoura|VI4C7KW|       2947|\n",
            "|          Ford|Escort XR3 1.8 / ...|        1.8|1985|           4034.0|            False| RJ|1997-10-06 00:30:19|         Azul médio|X87CZUY|       8308|\n",
            "|GM - Chevrolet|    C-10 CD 2.5/ 4.1|        2.5|1985|           8651.0|            False| MG|2021-08-13 20:58:34|             Índigo|C65XJGF|       2984|\n",
            "|           BRM|Buggy/M-8/M-8 Lon...|        1.6|1985|           3852.0|            False| RS|2020-06-05 19:12:11|       Mamão batido|REGEC6Y|       2110|\n",
            "|GM - Chevrolet|C-10 De Luxe CD 2...|        2.5|1985|           9334.0|            False| AC|1992-09-30 07:47:40|   Azul força aérea|Y45VL89|       2989|\n",
            "|GM - Chevrolet|Chevette L / SL /...|        1.6|1985|           4357.0|            False| PB|1995-03-09 10:49:38|    Verde amarelado|M7YVYA4|       2503|\n",
            "|GM - Chevrolet|C-20 Custom De Lu...|        4.1|1985|           9632.0|            False| MS|1990-07-17 08:24:12|               Maná|NXTGWCH|       3001|\n",
            "|GM - Chevrolet|A-10 De Luxe 2.5/4.1|        2.5|1985|           9290.0|            False| AP|1989-08-03 06:07:27|    Vermelho escuro|L5ZEWNY|       2937|\n",
            "|GM - Chevrolet|C-20 Custom Std. 4.1|        4.1|1985|           8531.0|            False| TO|2019-02-17 22:04:56|             Nyanza|I5E7FJI|       3013|\n",
            "|GM - Chevrolet|Monza Classic/ SL...|        1.8|1985|           3097.0|            False| MA|2018-09-03 19:46:38|            Aspargo|H2Q4JPJ|       2662|\n",
            "|GM - Chevrolet|Caravan L/SL/S/SS...|        2.5|1985|           3929.0|            False| CE|2011-01-12 11:09:15|Azul ardósia escuro|ZFMLON4|       3046|\n",
            "|GM - Chevrolet|Veraneio S / Luxe...|        4.1|1985|          12178.0|            False| SP|1989-08-18 22:16:55|           Carmesim|0ESYBR2|       2794|\n",
            "|GM - Chevrolet|Monza 1.6i/1.8i (...|        1.6|1985|           2766.0|            False| DF|2020-10-25 17:00:26|            Pêssego|OF846UX|       3097|\n",
            "|          Fiat|Elba CS 1.6 / 1.5...|        1.6|1985|           3242.0|            False| MA|2019-02-23 22:47:28|      Branco navajo|C0Z1234|       5977|\n",
            "|          Fiat|Premio S 1.5 i.e....|        1.5|1985|           2605.0|            False| PR|2009-11-11 09:31:31|      Azul camarada|IOC3QKF|       6057|\n",
            "|GM - Chevrolet|D-20 S / Luxe 3.9...|        3.9|1985|          25014.0|            False| RO|2002-11-27 04:44:50|     Dourado escuro|VMUYA86|       2533|\n",
            "|          Fiat|Premio CS 1.6/ 1....|        1.6|1985|           3039.0|            False| PR|2003-08-22 04:00:15|            Lavanda|5KI3ERM|       6067|\n",
            "|GM - Chevrolet|Chevy 500 DL / SL...|        1.6|1985|           2954.0|            False| GO|1995-01-05 12:06:36|          Azul real|XXE6D7U|       2515|\n",
            "|          Fiat|Uno S 1.5 i.e. / ...|        1.5|1985|           2920.0|            False| MG|1994-07-27 13:23:09|            Pêssego|VF8VI93|       6147|\n",
            "|GM - Chevrolet|Monza Classic SE ...|        2.0|1985|           3330.0|            False| PI|2017-10-12 10:35:32|        Azul areado|15SI6SI|       2691|\n",
            "+--------------+--------------------+-----------+----+-----------------+-----------------+---+-------------------+-------------------+-------+-----------+\n",
            "only showing top 20 rows\n",
            "\n"
          ]
        }
      ]
    },
    {
      "cell_type": "code",
      "source": [
        "data_parquet.filter('marca = \"GM - Chevrolet\"').show()"
      ],
      "metadata": {
        "colab": {
          "base_uri": "https://localhost:8080/"
        },
        "id": "6tTsSzRtADGF",
        "outputId": "c6812b1b-a11c-4aff-a9bd-6e7e0d5d7c0c"
      },
      "execution_count": 68,
      "outputs": [
        {
          "output_type": "stream",
          "name": "stdout",
          "text": [
            "+--------------+--------------------+-----------+----+-----------------+-----------------+---+-------------------+-----------------+-------+-----------+\n",
            "|         marca|              modelo|engine_size| ano|valor_tabela_fipe|flag_veiculo_novo| uf|      data_cadastro|              cor|  placa|index_level|\n",
            "+--------------+--------------------+-----------+----+-----------------+-----------------+---+-------------------+-----------------+-------+-----------+\n",
            "|GM - Chevrolet|Corsa Wind 1.0 MP...|        1.0|1998|           9329.0|            False| PR|2016-10-30 17:16:06|           Fúcsia|V0L9ZFF|       2321|\n",
            "|GM - Chevrolet|Corsa Wind 1.0 MP...|        1.0|1995|           8143.0|            False| GO|1998-11-06 20:31:59|  Orquídea escura|U07U5EE|       2324|\n",
            "|GM - Chevrolet|Corsa Super 1.0 M...|        1.0|1998|           9928.0|            False| SP|2019-03-05 22:30:05|           Rútilo|33FR364|       2327|\n",
            "|GM - Chevrolet|Corsa Super 1.0 M...|        1.0|1997|           9590.0|            False| AP|1999-05-23 23:36:05|           Salmão|ZROIAZ8|       2328|\n",
            "|GM - Chevrolet|Corsa Super 1.0 M...|        1.0|1996|           7739.0|            False| MS|2014-02-28 23:22:55|  Verde amarelado|UIR8LE8|       2329|\n",
            "|GM - Chevrolet|Corsa Pick-Up GL/...|        1.6|1999|          14036.0|            False| PR|2018-07-29 06:33:47|    Azul camarada|NWJZIOJ|       2333|\n",
            "|GM - Chevrolet|Corsa Pick-Up GL/...|        1.6|1998|          13272.0|            False| RJ|2017-01-16 08:04:46|    Laranja claro|FU2B6K3|       2334|\n",
            "|GM - Chevrolet|Corsa Pick-Up GL/...|        1.6|1997|          12744.0|            False| CE|2002-10-21 18:13:46|     Renda antiga|E7YIWV5|       2335|\n",
            "|GM - Chevrolet|Corsa Pick-Up GL/...|        1.6|1996|          11741.0|            False| MT|2016-11-20 18:23:53|          Cenoura|FRYF5GV|       2336|\n",
            "|GM - Chevrolet|Corsa Pick-Up GL/...|        1.6|1995|           8630.0|            False| MS|2000-12-02 05:57:23|    Verde militar|8KHVCGS|       2337|\n",
            "|GM - Chevrolet|Corsa GL 1.6 MPFI...|        1.6|2000|          13587.0|            False| AM|2019-01-08 23:27:20|        Eminência|0I8DZ87|       2338|\n",
            "|GM - Chevrolet|Corsa GL 1.6 MPFI...|        1.6|1999|          13214.0|            False| MS|2020-12-21 03:01:15|      Azul areado|8LFCVH7|       2339|\n",
            "|GM - Chevrolet|Corsa GL 1.6 MPFI...|        1.6|1998|          12205.0|            False| PB|2004-02-26 07:44:15|     Mamão batido|TPFIY2S|       2340|\n",
            "|GM - Chevrolet|Corsa GL 1.6 MPFI...|        1.6|1997|          11618.0|            False| SC|2021-08-05 13:56:48|    Rosa embaçado|H1HPZRD|       2341|\n",
            "|GM - Chevrolet|Corsa GL 1.6 MPFI...|        1.6|1995|           9538.0|            False| BA|2021-01-01 00:45:53|            Zinco|0262VSD|       2343|\n",
            "|GM - Chevrolet|Corsa Sedan GL 1....|        1.6|2000|          12541.0|            False| PE|2009-05-07 04:44:50|         Carmesim|06FZY4D|       2346|\n",
            "|GM - Chevrolet|Corsa Sedan GL 1....|        1.6|1999|          12202.0|            False| AM|2002-07-04 10:56:45|            Ciano|CJJ6EZJ|       2347|\n",
            "|GM - Chevrolet|Corsa Sedan GLS 1...|        1.6|2001|          17494.0|            False| TO|2009-04-26 02:27:12|Azul céu profundo|UE6XR61|       2352|\n",
            "|GM - Chevrolet|Corsa Sedan GLS 1...|        1.6|2000|          15602.0|            False| ES|2008-06-18 02:53:03|     Ciano escuro|VHA9O5F|       2353|\n",
            "|GM - Chevrolet|Corsa Sedan GLS 1...|        1.6|1999|          14524.0|            False| AL|2011-09-27 12:38:49|           Fúcsia|VRMRGPE|       2354|\n",
            "+--------------+--------------------+-----------+----+-----------------+-----------------+---+-------------------+-----------------+-------+-----------+\n",
            "only showing top 20 rows\n",
            "\n"
          ]
        }
      ]
    }
  ]
}