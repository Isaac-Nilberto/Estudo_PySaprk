{
  "nbformat": 4,
  "nbformat_minor": 0,
  "metadata": {
    "colab": {
      "provenance": [],
      "mount_file_id": "1hEWQkpAbJ0FfrVsL02XfA8BNbD3meCQ4",
      "authorship_tag": "ABX9TyNRFWkT/iFe/TMHBUYtvuJ/",
      "include_colab_link": true
    },
    "kernelspec": {
      "name": "python3",
      "display_name": "Python 3"
    },
    "language_info": {
      "name": "python"
    }
  },
  "cells": [
    {
      "cell_type": "markdown",
      "metadata": {
        "id": "view-in-github",
        "colab_type": "text"
      },
      "source": [
        "<a href=\"https://colab.research.google.com/github/Isaac-Nilberto/Estudo_PySaprk/blob/main/estudo_pyspark.ipynb\" target=\"_parent\"><img src=\"https://colab.research.google.com/assets/colab-badge.svg\" alt=\"Open In Colab\"/></a>"
      ]
    },
    {
      "cell_type": "markdown",
      "source": [
        "# Primeira Prática"
      ],
      "metadata": {
        "id": "JUMPt66t0oPj"
      }
    },
    {
      "cell_type": "code",
      "execution_count": 13,
      "metadata": {
        "colab": {
          "base_uri": "https://localhost:8080/"
        },
        "id": "FBKjz5uuts_z",
        "outputId": "72e3a820-9e51-4ee4-a10f-34b07d312638"
      },
      "outputs": [
        {
          "output_type": "stream",
          "name": "stdout",
          "text": [
            "Mounted at /content/gdrive\n"
          ]
        }
      ],
      "source": [
        "# mapear meu googledrive\n",
        "\n",
        "from google.colab import drive\n",
        "drive.mount('/content/gdrive')"
      ]
    },
    {
      "cell_type": "code",
      "source": [
        "# instalando dependencias\n",
        "\n",
        "!pip install pyspark"
      ],
      "metadata": {
        "colab": {
          "base_uri": "https://localhost:8080/"
        },
        "id": "YFfd0Zy4yBs4",
        "outputId": "fa0814df-cfe0-4fbb-ab00-b461c4b31037"
      },
      "execution_count": 14,
      "outputs": [
        {
          "output_type": "stream",
          "name": "stdout",
          "text": [
            "Collecting pyspark\n",
            "  Downloading pyspark-3.5.0.tar.gz (316.9 MB)\n",
            "\u001b[2K     \u001b[90m━━━━━━━━━━━━━━━━━━━━━━━━━━━━━━━━━━━━━━━━\u001b[0m \u001b[32m316.9/316.9 MB\u001b[0m \u001b[31m4.3 MB/s\u001b[0m eta \u001b[36m0:00:00\u001b[0m\n",
            "\u001b[?25h  Preparing metadata (setup.py) ... \u001b[?25l\u001b[?25hdone\n",
            "Requirement already satisfied: py4j==0.10.9.7 in /usr/local/lib/python3.10/dist-packages (from pyspark) (0.10.9.7)\n",
            "Building wheels for collected packages: pyspark\n",
            "  Building wheel for pyspark (setup.py) ... \u001b[?25l\u001b[?25hdone\n",
            "  Created wheel for pyspark: filename=pyspark-3.5.0-py2.py3-none-any.whl size=317425344 sha256=d44976dd09ca72d1a63305dccfb3ef2dade40159decf20ecfb385c668617d6a4\n",
            "  Stored in directory: /root/.cache/pip/wheels/41/4e/10/c2cf2467f71c678cfc8a6b9ac9241e5e44a01940da8fbb17fc\n",
            "Successfully built pyspark\n",
            "Installing collected packages: pyspark\n",
            "Successfully installed pyspark-3.5.0\n"
          ]
        }
      ]
    },
    {
      "cell_type": "code",
      "source": [
        "# criando sessão no pyspark\n",
        "\n",
        "from pyspark.sql import SparkSession\n",
        "\n",
        "spark = SparkSession \\\n",
        "        .builder \\\n",
        "        .appName('Minha Primeira Aplicacao') \\\n",
        "        .config('spark.ui.port', '4050') \\\n",
        "        .getOrCreate()"
      ],
      "metadata": {
        "id": "c5TkGYbH0q4x"
      },
      "execution_count": 16,
      "outputs": []
    },
    {
      "cell_type": "code",
      "source": [
        "spark"
      ],
      "metadata": {
        "colab": {
          "base_uri": "https://localhost:8080/",
          "height": 219
        },
        "id": "_gXzRfXG3UcV",
        "outputId": "469edc31-7e32-4415-9309-e7bc702d06fc"
      },
      "execution_count": 17,
      "outputs": [
        {
          "output_type": "execute_result",
          "data": {
            "text/plain": [
              "<pyspark.sql.session.SparkSession at 0x7ea0474b8ee0>"
            ],
            "text/html": [
              "\n",
              "            <div>\n",
              "                <p><b>SparkSession - in-memory</b></p>\n",
              "                \n",
              "        <div>\n",
              "            <p><b>SparkContext</b></p>\n",
              "\n",
              "            <p><a href=\"http://f9b09161d27e:4050\">Spark UI</a></p>\n",
              "\n",
              "            <dl>\n",
              "              <dt>Version</dt>\n",
              "                <dd><code>v3.5.0</code></dd>\n",
              "              <dt>Master</dt>\n",
              "                <dd><code>local[*]</code></dd>\n",
              "              <dt>AppName</dt>\n",
              "                <dd><code>Minha Primeira Aplicacao</code></dd>\n",
              "            </dl>\n",
              "        </div>\n",
              "        \n",
              "            </div>\n",
              "        "
            ]
          },
          "metadata": {},
          "execution_count": 17
        }
      ]
    },
    {
      "cell_type": "markdown",
      "source": [
        "# Leitura de Dados"
      ],
      "metadata": {
        "id": "E61M9x1f3hPK"
      }
    },
    {
      "cell_type": "markdown",
      "source": [
        "## lendo parquet"
      ],
      "metadata": {
        "id": "nPSfZv8k4v1N"
      }
    },
    {
      "cell_type": "code",
      "source": [
        "# carregando dados\n",
        "data_parquet = spark.read.parquet(\"/content/drive/MyDrive/POD/pyspark/Dados_Aula01/dados_veiculos_sample\")"
      ],
      "metadata": {
        "id": "wVVgJPE03kNe"
      },
      "execution_count": 18,
      "outputs": []
    },
    {
      "cell_type": "code",
      "source": [
        "# vendo tipo de dado\n",
        "type(data_parquet)"
      ],
      "metadata": {
        "colab": {
          "base_uri": "https://localhost:8080/"
        },
        "id": "CpNjG7gQ4FFa",
        "outputId": "e03b3f13-0b5b-442f-dabf-1b72aaf0cef3"
      },
      "execution_count": 19,
      "outputs": [
        {
          "output_type": "execute_result",
          "data": {
            "text/plain": [
              "pyspark.sql.dataframe.DataFrame"
            ]
          },
          "metadata": {},
          "execution_count": 19
        }
      ]
    },
    {
      "cell_type": "code",
      "source": [
        "data_parquet.printSchema()"
      ],
      "metadata": {
        "colab": {
          "base_uri": "https://localhost:8080/"
        },
        "id": "DjGx_2o-4NG_",
        "outputId": "463914c3-5e9e-4e50-9aa7-c38b03e88a90"
      },
      "execution_count": 20,
      "outputs": [
        {
          "output_type": "stream",
          "name": "stdout",
          "text": [
            "root\n",
            " |-- marca: string (nullable = true)\n",
            " |-- modelo: string (nullable = true)\n",
            " |-- engine_size: double (nullable = true)\n",
            " |-- ano: long (nullable = true)\n",
            " |-- valor_tabela_fipe: double (nullable = true)\n",
            " |-- flag_veiculo_novo: string (nullable = true)\n",
            " |-- uf: string (nullable = true)\n",
            " |-- data_cadastro: timestamp_ntz (nullable = true)\n",
            " |-- cor: string (nullable = true)\n",
            " |-- placa: string (nullable = true)\n",
            " |-- __index_level_0__: long (nullable = true)\n",
            "\n"
          ]
        }
      ]
    },
    {
      "cell_type": "code",
      "source": [
        "data_parquet.show(truncate = False)"
      ],
      "metadata": {
        "colab": {
          "base_uri": "https://localhost:8080/"
        },
        "id": "xSfhngXs4TjJ",
        "outputId": "9f4ccc34-d92e-4056-af5b-cdb8b9727704"
      },
      "execution_count": 26,
      "outputs": [
        {
          "output_type": "stream",
          "name": "stdout",
          "text": [
            "+------+---------------------------------+-----------+----+-----------------+-----------------+---+-------------------+-----------------------+-------+-----------------+\n",
            "|marca |modelo                           |engine_size|ano |valor_tabela_fipe|flag_veiculo_novo|uf |data_cadastro      |cor                    |placa  |__index_level_0__|\n",
            "+------+---------------------------------+-----------+----+-----------------+-----------------+---+-------------------+-----------------------+-------+-----------------+\n",
            "|Acura |NSX 3.0                          |3.0        |1995|43779.0          |False            |MT |2005-09-02 14:40:54|Orquídea média         |4RR2KR0|0                |\n",
            "|Acura |NSX 3.0                          |3.0        |1994|42244.0          |False            |MT |1998-11-01 11:58:46|Azul aço               |5C6NIZ1|1                |\n",
            "|Acura |NSX 3.0                          |3.0        |1992|39028.0          |False            |AP |2014-07-03 20:32:21|Ametista               |3PRJCPK|3                |\n",
            "|Acura |Legend 3.2/3.5                   |3.2        |1998|27132.0          |False            |AP |2018-01-07 20:03:26|Caramelo               |2FXXZ1W|5                |\n",
            "|Acura |Legend 3.2/3.5                   |3.2        |1995|20393.0          |False            |MT |2016-03-16 18:24:33|Lavanda avermelhada    |2PTOYFY|8                |\n",
            "|Acura |Legend 3.2/3.5                   |3.2        |1993|15156.0          |False            |PA |2021-02-24 09:12:55|Cinza médio            |91M9ITK|10               |\n",
            "|Acura |Legend 3.2/3.5                   |3.2        |1992|14440.0          |False            |MA |1999-09-29 15:15:47|Azul ardósia claro     |CUB4FG8|11               |\n",
            "|Acura |Integra GS 1.8                   |1.8        |1991|10785.0          |False            |RR |2007-08-24 18:07:24|Marrom amarelado       |RVMZ6AR|14               |\n",
            "|Agrale|MARRUÁ AM 50 2.8 140cv TDI Diesel|2.8        |2010|64744.0          |False            |CE |2022-08-09 02:19:54|Verde primavera        |0IY5RU3|20               |\n",
            "|Agrale|MARRUÁ AM 50 2.8 140cv TDI Diesel|2.8        |2008|55772.0          |False            |SP |2014-01-27 17:42:24|Urucum                 |AVIM91O|22               |\n",
            "|Agrale|MARRUÁ AM 100 2.8 CS TDI Diesel  |2.8        |2015|109335.0         |False            |GO |2017-01-17 11:51:47|Verde fluorescente     |6014MZB|23               |\n",
            "|Agrale|MARRUÁ AM 100 2.8 CS TDI Diesel  |2.8        |2014|105149.0         |False            |MT |2016-06-08 04:18:38|Chocolate              |6WKD8TD|24               |\n",
            "|Agrale|MARRUÁ AM 100 2.8 CS TDI Diesel  |2.8        |2010|52934.0          |False            |AP |2022-02-19 10:44:44|Ocre                   |PQZB1OD|28               |\n",
            "|Agrale|MARRUÁ AM 100 2.8 CD TDI Diesel  |2.8        |2012|111158.0         |False            |AC |2021-07-28 20:42:19|Azul                   |2PD806F|34               |\n",
            "|Agrale|MARRUÁ AM 100 2.8 CD TDI Diesel  |2.8        |2011|86443.0          |False            |AP |2012-02-02 00:03:09|Brasil                 |U6NWAUI|35               |\n",
            "|Agrale|MARRUÁ AM 100 2.8 CD TDI Diesel  |2.8        |2007|52088.0          |False            |DF |2018-08-21 18:17:07|Naval                  |HUAMUK3|39               |\n",
            "|Agrale|MARRUÁ AM 150 2.8 CS TDI Diesel  |2.8        |2015|111368.0         |False            |RR |2017-08-02 19:33:42|Maná                   |OO92X3P|40               |\n",
            "|Agrale|MARRUÁ AM 150 2.8 CD TDI Diesel  |2.8        |2010|72093.0          |False            |RS |2017-08-30 19:58:28|Azul turquesa brilhante|W963DA9|53               |\n",
            "|Agrale|MARRUÁ AM 200 2.8 CS TDI Diesel  |2.8        |2019|232367.0         |False            |PI |2022-06-03 09:10:14|Verde militar          |9KTQR31|60               |\n",
            "|Agrale|MARRUÁ AM 200 2.8 CS TDI Diesel  |2.8        |2014|109529.0         |False            |AM |2016-11-27 13:51:15|Azul areado            |YVJ711F|65               |\n",
            "+------+---------------------------------+-----------+----+-----------------+-----------------+---+-------------------+-----------------------+-------+-----------------+\n",
            "only showing top 20 rows\n",
            "\n"
          ]
        }
      ]
    },
    {
      "cell_type": "markdown",
      "source": [
        "## lendo csv"
      ],
      "metadata": {
        "id": "xonX7zfi4yrB"
      }
    },
    {
      "cell_type": "code",
      "source": [
        "data_csv = spark.read.csv(\"/content/drive/MyDrive/POD/pyspark/Dados_Aula01/netflix_titles.csv\", header = True)"
      ],
      "metadata": {
        "id": "_HDivY-W40l2"
      },
      "execution_count": 30,
      "outputs": []
    },
    {
      "cell_type": "code",
      "source": [
        "data_csv.show(5)"
      ],
      "metadata": {
        "colab": {
          "base_uri": "https://localhost:8080/"
        },
        "id": "_1fPZpwu4-kB",
        "outputId": "ae9afd38-fe32-4d49-b65e-702b1ad1191f"
      },
      "execution_count": 31,
      "outputs": [
        {
          "output_type": "stream",
          "name": "stdout",
          "text": [
            "+-------+-------+--------------------+---------------+--------------------+-------------+------------------+------------+------+---------+--------------------+--------------------+\n",
            "|show_id|   type|               title|       director|                cast|      country|        date_added|release_year|rating| duration|           listed_in|         description|\n",
            "+-------+-------+--------------------+---------------+--------------------+-------------+------------------+------------+------+---------+--------------------+--------------------+\n",
            "|     s1|  Movie|Dick Johnson Is Dead|Kirsten Johnson|                NULL|United States|September 25, 2021|        2020| PG-13|   90 min|       Documentaries|As her father nea...|\n",
            "|     s2|TV Show|       Blood & Water|           NULL|Ama Qamata, Khosi...| South Africa|September 24, 2021|        2021| TV-MA|2 Seasons|International TV ...|After crossing pa...|\n",
            "|     s3|TV Show|           Ganglands|Julien Leclercq|Sami Bouajila, Tr...|         NULL|September 24, 2021|        2021| TV-MA| 1 Season|Crime TV Shows, I...|To protect his fa...|\n",
            "|     s4|TV Show|Jailbirds New Orl...|           NULL|                NULL|         NULL|September 24, 2021|        2021| TV-MA| 1 Season|Docuseries, Reali...|Feuds, flirtation...|\n",
            "|     s5|TV Show|        Kota Factory|           NULL|Mayur More, Jiten...|        India|September 24, 2021|        2021| TV-MA|2 Seasons|International TV ...|In a city of coac...|\n",
            "+-------+-------+--------------------+---------------+--------------------+-------------+------------------+------------+------+---------+--------------------+--------------------+\n",
            "only showing top 5 rows\n",
            "\n"
          ]
        }
      ]
    },
    {
      "cell_type": "code",
      "source": [
        "data_csv.printSchema()"
      ],
      "metadata": {
        "colab": {
          "base_uri": "https://localhost:8080/"
        },
        "id": "8VIw8dJu5UX0",
        "outputId": "51495672-1687-46f9-ff21-6fae5eda9663"
      },
      "execution_count": 32,
      "outputs": [
        {
          "output_type": "stream",
          "name": "stdout",
          "text": [
            "root\n",
            " |-- show_id: string (nullable = true)\n",
            " |-- type: string (nullable = true)\n",
            " |-- title: string (nullable = true)\n",
            " |-- director: string (nullable = true)\n",
            " |-- cast: string (nullable = true)\n",
            " |-- country: string (nullable = true)\n",
            " |-- date_added: string (nullable = true)\n",
            " |-- release_year: string (nullable = true)\n",
            " |-- rating: string (nullable = true)\n",
            " |-- duration: string (nullable = true)\n",
            " |-- listed_in: string (nullable = true)\n",
            " |-- description: string (nullable = true)\n",
            "\n"
          ]
        }
      ]
    }
  ]
}